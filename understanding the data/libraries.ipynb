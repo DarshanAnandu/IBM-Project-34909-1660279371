{
  "nbformat": 4,
  "nbformat_minor": 0,
  "metadata": {
    "colab": {
      "provenance": []
    },
    "kernelspec": {
      "name": "python3",
      "display_name": "Python 3"
    },
    "language_info": {
      "name": "python"
    }
  },
  "cells": [
    {
      "cell_type": "code",
      "execution_count": 2,
      "metadata": {
        "id": "i7jnHh6YSYH3"
      },
      "outputs": [],
      "source": [
        "import numpy as np\n",
        "import tensorflow \n",
        "from tensorflow.keras.datasets import mnist \n",
        "from tensorflow.keras.models import Sequential \n",
        "from tensorflow.keras import layers \n",
        "from tensorflow.keras.layers import Dense, Flatten \n",
        "from tensorflow.keras.layers import Conv2D \n",
        "from keras.optimizers import Adam \n",
        "from keras. utils import np_utils \n",
        "import matplotlib.pyplot as plt"
      ]
    }
  ]
}